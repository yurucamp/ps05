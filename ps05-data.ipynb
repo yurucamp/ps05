{
 "cells": [
  {
   "cell_type": "markdown",
   "metadata": {
    "ein.tags": "worksheet-0",
    "slideshow": {
     "slide_type": "-"
    }
   },
   "source": [
    "# IMT 511 PS 05: data programming"
   ]
  },
  {
   "cell_type": "code",
   "execution_count": 10,
   "metadata": {
    "autoscroll": false,
    "ein.hycell": false,
    "ein.tags": "worksheet-0",
    "slideshow": {
     "slide_type": "-"
    }
   },
   "outputs": [],
   "source": [
    "import numpy as np\n",
    "import pandas as pd\n",
    "import matplotlib.pyplot as plt\n",
    "%matplotlib inline"
   ]
  },
  {
   "cell_type": "markdown",
   "metadata": {
    "ein.tags": "worksheet-0",
    "slideshow": {
     "slide_type": "-"
    }
   },
   "source": [
    "# read data\n",
    "\n",
    "read in the data file 'weatherHistory.csv.bz2'.  Understand it's\n",
    "structure.  Consult the companion text file for a brief variable\n",
    "descriptions.\n",
    "\n",
    "inspect a few lines of the data and find the number of rows and columns\n",
    "\n",
    "Hint: use pd.sample(), pd.head(), pd.tail()"
   ]
  },
  {
   "cell_type": "code",
   "execution_count": 11,
   "metadata": {
    "autoscroll": false,
    "ein.hycell": false,
    "ein.tags": "worksheet-0",
    "scrolled": true,
    "slideshow": {
     "slide_type": "-"
    }
   },
   "outputs": [
    {
     "data": {
      "text/html": [
       "<div>\n",
       "<style scoped>\n",
       "    .dataframe tbody tr th:only-of-type {\n",
       "        vertical-align: middle;\n",
       "    }\n",
       "\n",
       "    .dataframe tbody tr th {\n",
       "        vertical-align: top;\n",
       "    }\n",
       "\n",
       "    .dataframe thead th {\n",
       "        text-align: right;\n",
       "    }\n",
       "</style>\n",
       "<table border=\"1\" class=\"dataframe\">\n",
       "  <thead>\n",
       "    <tr style=\"text-align: right;\">\n",
       "      <th></th>\n",
       "      <th>time</th>\n",
       "      <th>summary</th>\n",
       "      <th>precip</th>\n",
       "      <th>temp</th>\n",
       "      <th>appTemp</th>\n",
       "      <th>humidity</th>\n",
       "      <th>wind</th>\n",
       "      <th>bearing</th>\n",
       "      <th>visibility</th>\n",
       "      <th>cloudCover</th>\n",
       "      <th>pressumre</th>\n",
       "      <th>dailySummary</th>\n",
       "    </tr>\n",
       "  </thead>\n",
       "  <tbody>\n",
       "    <tr>\n",
       "      <th>96448</th>\n",
       "      <td>2016-09-09 19:00:00.000 +0200</td>\n",
       "      <td>Partly Cloudy</td>\n",
       "      <td>rain</td>\n",
       "      <td>26.016667</td>\n",
       "      <td>26.016667</td>\n",
       "      <td>0.43</td>\n",
       "      <td>10.9963</td>\n",
       "      <td>31.0</td>\n",
       "      <td>16.1000</td>\n",
       "      <td>0.0</td>\n",
       "      <td>1014.36</td>\n",
       "      <td>Partly cloudy starting in the morning.</td>\n",
       "    </tr>\n",
       "    <tr>\n",
       "      <th>96449</th>\n",
       "      <td>2016-09-09 20:00:00.000 +0200</td>\n",
       "      <td>Partly Cloudy</td>\n",
       "      <td>rain</td>\n",
       "      <td>24.583333</td>\n",
       "      <td>24.583333</td>\n",
       "      <td>0.48</td>\n",
       "      <td>10.0947</td>\n",
       "      <td>20.0</td>\n",
       "      <td>15.5526</td>\n",
       "      <td>0.0</td>\n",
       "      <td>1015.16</td>\n",
       "      <td>Partly cloudy starting in the morning.</td>\n",
       "    </tr>\n",
       "    <tr>\n",
       "      <th>96450</th>\n",
       "      <td>2016-09-09 21:00:00.000 +0200</td>\n",
       "      <td>Partly Cloudy</td>\n",
       "      <td>rain</td>\n",
       "      <td>22.038889</td>\n",
       "      <td>22.038889</td>\n",
       "      <td>0.56</td>\n",
       "      <td>8.9838</td>\n",
       "      <td>30.0</td>\n",
       "      <td>16.1000</td>\n",
       "      <td>0.0</td>\n",
       "      <td>1015.66</td>\n",
       "      <td>Partly cloudy starting in the morning.</td>\n",
       "    </tr>\n",
       "    <tr>\n",
       "      <th>96451</th>\n",
       "      <td>2016-09-09 22:00:00.000 +0200</td>\n",
       "      <td>Partly Cloudy</td>\n",
       "      <td>rain</td>\n",
       "      <td>21.522222</td>\n",
       "      <td>21.522222</td>\n",
       "      <td>0.60</td>\n",
       "      <td>10.5294</td>\n",
       "      <td>20.0</td>\n",
       "      <td>16.1000</td>\n",
       "      <td>0.0</td>\n",
       "      <td>1015.95</td>\n",
       "      <td>Partly cloudy starting in the morning.</td>\n",
       "    </tr>\n",
       "    <tr>\n",
       "      <th>96452</th>\n",
       "      <td>2016-09-09 23:00:00.000 +0200</td>\n",
       "      <td>Partly Cloudy</td>\n",
       "      <td>rain</td>\n",
       "      <td>20.438889</td>\n",
       "      <td>20.438889</td>\n",
       "      <td>0.61</td>\n",
       "      <td>5.8765</td>\n",
       "      <td>39.0</td>\n",
       "      <td>15.5204</td>\n",
       "      <td>0.0</td>\n",
       "      <td>1016.16</td>\n",
       "      <td>Partly cloudy starting in the morning.</td>\n",
       "    </tr>\n",
       "  </tbody>\n",
       "</table>\n",
       "</div>"
      ],
      "text/plain": [
       "                                time        summary precip       temp  \\\n",
       "96448  2016-09-09 19:00:00.000 +0200  Partly Cloudy   rain  26.016667   \n",
       "96449  2016-09-09 20:00:00.000 +0200  Partly Cloudy   rain  24.583333   \n",
       "96450  2016-09-09 21:00:00.000 +0200  Partly Cloudy   rain  22.038889   \n",
       "96451  2016-09-09 22:00:00.000 +0200  Partly Cloudy   rain  21.522222   \n",
       "96452  2016-09-09 23:00:00.000 +0200  Partly Cloudy   rain  20.438889   \n",
       "\n",
       "         appTemp  humidity     wind  bearing  visibility  cloudCover  \\\n",
       "96448  26.016667      0.43  10.9963     31.0     16.1000         0.0   \n",
       "96449  24.583333      0.48  10.0947     20.0     15.5526         0.0   \n",
       "96450  22.038889      0.56   8.9838     30.0     16.1000         0.0   \n",
       "96451  21.522222      0.60  10.5294     20.0     16.1000         0.0   \n",
       "96452  20.438889      0.61   5.8765     39.0     15.5204         0.0   \n",
       "\n",
       "       pressumre                            dailySummary  \n",
       "96448    1014.36  Partly cloudy starting in the morning.  \n",
       "96449    1015.16  Partly cloudy starting in the morning.  \n",
       "96450    1015.66  Partly cloudy starting in the morning.  \n",
       "96451    1015.95  Partly cloudy starting in the morning.  \n",
       "96452    1016.16  Partly cloudy starting in the morning.  "
      ]
     },
     "execution_count": 11,
     "metadata": {},
     "output_type": "execute_result"
    }
   ],
   "source": [
    "weather = pd.read_csv('weatherHistory.csv.bz2')\n",
    "# ...\n",
    "weather.head()\n",
    "weather.tail()"
   ]
  },
  {
   "cell_type": "markdown",
   "metadata": {
    "ein.tags": "worksheet-0",
    "slideshow": {
     "slide_type": "-"
    }
   },
   "source": [
    "## Select 2015 observations only\n",
    "\n",
    "Select only observations for 2015.\n",
    "\n",
    "Hint: 'time' is of a string data type (well, it is a Series of\n",
    "string).  Use string methods to select 2015 data only.\n",
    "\n",
    "Hint2: you have to use `.str` attribute to get a string out of series.\n",
    "\n",
    "Hint3: don't just make a subset, make a copy of subset.\n",
    "\n",
    "Find how many observations are there for 2015 only."
   ]
  },
  {
   "cell_type": "code",
   "execution_count": 12,
   "metadata": {
    "autoscroll": false,
    "ein.tags": "worksheet-0",
    "slideshow": {
     "slide_type": "-"
    }
   },
   "outputs": [
    {
     "name": "stdout",
     "output_type": "stream",
     "text": [
      "observations for 2015 is 105120\n"
     ]
    }
   ],
   "source": [
    "#\n",
    "w15 = weather[weather.time.str.find(\"2015\")!=-1].copy()\n",
    "#print(select_2015)\n",
    "print(\"observations for 2015 is\", w15.size) "
   ]
  },
  {
   "cell_type": "markdown",
   "metadata": {
    "ein.tags": "worksheet-0",
    "slideshow": {
     "slide_type": "-"
    }
   },
   "source": [
    "## Create a new variable 'timestamp' which is variable 'time'\n",
    "## converted to datetime type\n",
    "\n",
    "Hint: use Pandas.to_datetime\n",
    "(code given, adjust variable names)"
   ]
  },
  {
   "cell_type": "code",
   "execution_count": 16,
   "metadata": {
    "autoscroll": false,
    "ein.tags": "worksheet-0",
    "slideshow": {
     "slide_type": "-"
    }
   },
   "outputs": [
    {
     "data": {
      "text/html": [
       "<div>\n",
       "<style scoped>\n",
       "    .dataframe tbody tr th:only-of-type {\n",
       "        vertical-align: middle;\n",
       "    }\n",
       "\n",
       "    .dataframe tbody tr th {\n",
       "        vertical-align: top;\n",
       "    }\n",
       "\n",
       "    .dataframe thead th {\n",
       "        text-align: right;\n",
       "    }\n",
       "</style>\n",
       "<table border=\"1\" class=\"dataframe\">\n",
       "  <thead>\n",
       "    <tr style=\"text-align: right;\">\n",
       "      <th></th>\n",
       "      <th>time</th>\n",
       "      <th>summary</th>\n",
       "      <th>precip</th>\n",
       "      <th>temp</th>\n",
       "      <th>appTemp</th>\n",
       "      <th>humidity</th>\n",
       "      <th>wind</th>\n",
       "      <th>bearing</th>\n",
       "      <th>visibility</th>\n",
       "      <th>cloudCover</th>\n",
       "      <th>pressumre</th>\n",
       "      <th>dailySummary</th>\n",
       "      <th>timestamp</th>\n",
       "    </tr>\n",
       "  </thead>\n",
       "  <tbody>\n",
       "    <tr>\n",
       "      <th>78909</th>\n",
       "      <td>2015-04-01 00:00:00.000 +0200</td>\n",
       "      <td>Overcast</td>\n",
       "      <td>rain</td>\n",
       "      <td>11.016667</td>\n",
       "      <td>11.016667</td>\n",
       "      <td>0.71</td>\n",
       "      <td>24.9228</td>\n",
       "      <td>309.0</td>\n",
       "      <td>10.2557</td>\n",
       "      <td>0.0</td>\n",
       "      <td>1004.56</td>\n",
       "      <td>Mostly cloudy throughout the day and breezy in...</td>\n",
       "      <td>2015-04-01 00:00:00+02:00</td>\n",
       "    </tr>\n",
       "    <tr>\n",
       "      <th>78910</th>\n",
       "      <td>2015-04-01 01:00:00.000 +0200</td>\n",
       "      <td>Breezy and Overcast</td>\n",
       "      <td>rain</td>\n",
       "      <td>10.994444</td>\n",
       "      <td>10.994444</td>\n",
       "      <td>0.62</td>\n",
       "      <td>31.1535</td>\n",
       "      <td>300.0</td>\n",
       "      <td>10.2557</td>\n",
       "      <td>0.0</td>\n",
       "      <td>1005.28</td>\n",
       "      <td>Mostly cloudy throughout the day and breezy in...</td>\n",
       "      <td>2015-04-01 01:00:00+02:00</td>\n",
       "    </tr>\n",
       "    <tr>\n",
       "      <th>78911</th>\n",
       "      <td>2015-04-01 02:00:00.000 +0200</td>\n",
       "      <td>Overcast</td>\n",
       "      <td>rain</td>\n",
       "      <td>9.872222</td>\n",
       "      <td>7.016667</td>\n",
       "      <td>0.64</td>\n",
       "      <td>22.2985</td>\n",
       "      <td>309.0</td>\n",
       "      <td>14.3934</td>\n",
       "      <td>0.0</td>\n",
       "      <td>1006.28</td>\n",
       "      <td>Mostly cloudy throughout the day and breezy in...</td>\n",
       "      <td>2015-04-01 02:00:00+02:00</td>\n",
       "    </tr>\n",
       "    <tr>\n",
       "      <th>78912</th>\n",
       "      <td>2015-04-01 03:00:00.000 +0200</td>\n",
       "      <td>Overcast</td>\n",
       "      <td>rain</td>\n",
       "      <td>8.838889</td>\n",
       "      <td>6.561111</td>\n",
       "      <td>0.67</td>\n",
       "      <td>14.5061</td>\n",
       "      <td>310.0</td>\n",
       "      <td>15.1823</td>\n",
       "      <td>0.0</td>\n",
       "      <td>1006.34</td>\n",
       "      <td>Mostly cloudy throughout the day and breezy in...</td>\n",
       "      <td>2015-04-01 03:00:00+02:00</td>\n",
       "    </tr>\n",
       "    <tr>\n",
       "      <th>78913</th>\n",
       "      <td>2015-04-01 04:00:00.000 +0200</td>\n",
       "      <td>Overcast</td>\n",
       "      <td>rain</td>\n",
       "      <td>8.305556</td>\n",
       "      <td>5.605556</td>\n",
       "      <td>0.67</td>\n",
       "      <td>16.8889</td>\n",
       "      <td>290.0</td>\n",
       "      <td>15.1823</td>\n",
       "      <td>0.0</td>\n",
       "      <td>1007.65</td>\n",
       "      <td>Mostly cloudy throughout the day and breezy in...</td>\n",
       "      <td>2015-04-01 04:00:00+02:00</td>\n",
       "    </tr>\n",
       "    <tr>\n",
       "      <th>78914</th>\n",
       "      <td>2015-04-01 05:00:00.000 +0200</td>\n",
       "      <td>Mostly Cloudy</td>\n",
       "      <td>rain</td>\n",
       "      <td>7.266667</td>\n",
       "      <td>4.833333</td>\n",
       "      <td>0.71</td>\n",
       "      <td>13.1537</td>\n",
       "      <td>281.0</td>\n",
       "      <td>14.3934</td>\n",
       "      <td>0.0</td>\n",
       "      <td>1008.44</td>\n",
       "      <td>Mostly cloudy throughout the day and breezy in...</td>\n",
       "      <td>2015-04-01 05:00:00+02:00</td>\n",
       "    </tr>\n",
       "    <tr>\n",
       "      <th>78915</th>\n",
       "      <td>2015-04-01 06:00:00.000 +0200</td>\n",
       "      <td>Mostly Cloudy</td>\n",
       "      <td>rain</td>\n",
       "      <td>6.061111</td>\n",
       "      <td>3.244444</td>\n",
       "      <td>0.70</td>\n",
       "      <td>13.8943</td>\n",
       "      <td>230.0</td>\n",
       "      <td>15.1823</td>\n",
       "      <td>0.0</td>\n",
       "      <td>1008.66</td>\n",
       "      <td>Mostly cloudy throughout the day and breezy in...</td>\n",
       "      <td>2015-04-01 06:00:00+02:00</td>\n",
       "    </tr>\n",
       "    <tr>\n",
       "      <th>78916</th>\n",
       "      <td>2015-04-01 07:00:00.000 +0200</td>\n",
       "      <td>Partly Cloudy</td>\n",
       "      <td>rain</td>\n",
       "      <td>6.000000</td>\n",
       "      <td>3.077778</td>\n",
       "      <td>0.76</td>\n",
       "      <td>14.4739</td>\n",
       "      <td>230.0</td>\n",
       "      <td>16.1000</td>\n",
       "      <td>0.0</td>\n",
       "      <td>1008.89</td>\n",
       "      <td>Mostly cloudy throughout the day and breezy in...</td>\n",
       "      <td>2015-04-01 07:00:00+02:00</td>\n",
       "    </tr>\n",
       "    <tr>\n",
       "      <th>78917</th>\n",
       "      <td>2015-04-01 08:00:00.000 +0200</td>\n",
       "      <td>Mostly Cloudy</td>\n",
       "      <td>rain</td>\n",
       "      <td>7.888889</td>\n",
       "      <td>5.900000</td>\n",
       "      <td>0.69</td>\n",
       "      <td>11.2378</td>\n",
       "      <td>248.0</td>\n",
       "      <td>10.3523</td>\n",
       "      <td>0.0</td>\n",
       "      <td>1010.08</td>\n",
       "      <td>Mostly cloudy throughout the day and breezy in...</td>\n",
       "      <td>2015-04-01 08:00:00+02:00</td>\n",
       "    </tr>\n",
       "    <tr>\n",
       "      <th>78918</th>\n",
       "      <td>2015-04-01 09:00:00.000 +0200</td>\n",
       "      <td>Mostly Cloudy</td>\n",
       "      <td>rain</td>\n",
       "      <td>9.950000</td>\n",
       "      <td>6.661111</td>\n",
       "      <td>0.60</td>\n",
       "      <td>28.0945</td>\n",
       "      <td>280.0</td>\n",
       "      <td>9.9820</td>\n",
       "      <td>0.0</td>\n",
       "      <td>1010.21</td>\n",
       "      <td>Mostly cloudy throughout the day and breezy in...</td>\n",
       "      <td>2015-04-01 09:00:00+02:00</td>\n",
       "    </tr>\n",
       "  </tbody>\n",
       "</table>\n",
       "</div>"
      ],
      "text/plain": [
       "                                time              summary precip       temp  \\\n",
       "78909  2015-04-01 00:00:00.000 +0200             Overcast   rain  11.016667   \n",
       "78910  2015-04-01 01:00:00.000 +0200  Breezy and Overcast   rain  10.994444   \n",
       "78911  2015-04-01 02:00:00.000 +0200             Overcast   rain   9.872222   \n",
       "78912  2015-04-01 03:00:00.000 +0200             Overcast   rain   8.838889   \n",
       "78913  2015-04-01 04:00:00.000 +0200             Overcast   rain   8.305556   \n",
       "78914  2015-04-01 05:00:00.000 +0200        Mostly Cloudy   rain   7.266667   \n",
       "78915  2015-04-01 06:00:00.000 +0200        Mostly Cloudy   rain   6.061111   \n",
       "78916  2015-04-01 07:00:00.000 +0200        Partly Cloudy   rain   6.000000   \n",
       "78917  2015-04-01 08:00:00.000 +0200        Mostly Cloudy   rain   7.888889   \n",
       "78918  2015-04-01 09:00:00.000 +0200        Mostly Cloudy   rain   9.950000   \n",
       "\n",
       "         appTemp  humidity     wind  bearing  visibility  cloudCover  \\\n",
       "78909  11.016667      0.71  24.9228    309.0     10.2557         0.0   \n",
       "78910  10.994444      0.62  31.1535    300.0     10.2557         0.0   \n",
       "78911   7.016667      0.64  22.2985    309.0     14.3934         0.0   \n",
       "78912   6.561111      0.67  14.5061    310.0     15.1823         0.0   \n",
       "78913   5.605556      0.67  16.8889    290.0     15.1823         0.0   \n",
       "78914   4.833333      0.71  13.1537    281.0     14.3934         0.0   \n",
       "78915   3.244444      0.70  13.8943    230.0     15.1823         0.0   \n",
       "78916   3.077778      0.76  14.4739    230.0     16.1000         0.0   \n",
       "78917   5.900000      0.69  11.2378    248.0     10.3523         0.0   \n",
       "78918   6.661111      0.60  28.0945    280.0      9.9820         0.0   \n",
       "\n",
       "       pressumre                                       dailySummary  \\\n",
       "78909    1004.56  Mostly cloudy throughout the day and breezy in...   \n",
       "78910    1005.28  Mostly cloudy throughout the day and breezy in...   \n",
       "78911    1006.28  Mostly cloudy throughout the day and breezy in...   \n",
       "78912    1006.34  Mostly cloudy throughout the day and breezy in...   \n",
       "78913    1007.65  Mostly cloudy throughout the day and breezy in...   \n",
       "78914    1008.44  Mostly cloudy throughout the day and breezy in...   \n",
       "78915    1008.66  Mostly cloudy throughout the day and breezy in...   \n",
       "78916    1008.89  Mostly cloudy throughout the day and breezy in...   \n",
       "78917    1010.08  Mostly cloudy throughout the day and breezy in...   \n",
       "78918    1010.21  Mostly cloudy throughout the day and breezy in...   \n",
       "\n",
       "                       timestamp  \n",
       "78909  2015-04-01 00:00:00+02:00  \n",
       "78910  2015-04-01 01:00:00+02:00  \n",
       "78911  2015-04-01 02:00:00+02:00  \n",
       "78912  2015-04-01 03:00:00+02:00  \n",
       "78913  2015-04-01 04:00:00+02:00  \n",
       "78914  2015-04-01 05:00:00+02:00  \n",
       "78915  2015-04-01 06:00:00+02:00  \n",
       "78916  2015-04-01 07:00:00+02:00  \n",
       "78917  2015-04-01 08:00:00+02:00  \n",
       "78918  2015-04-01 09:00:00+02:00  "
      ]
     },
     "execution_count": 16,
     "metadata": {},
     "output_type": "execute_result"
    }
   ],
   "source": [
    "#weather['timestamp'] = pd.to_datetime(weather.time)\n",
    "w15['timestamp'] = pd.to_datetime(w15.time)\n",
    "w15.head(10)"
   ]
  },
  {
   "cell_type": "markdown",
   "metadata": {
    "ein.tags": "worksheet-0",
    "slideshow": {
     "slide_type": "-"
    }
   },
   "source": [
    "## Sort data by date\n",
    "\n",
    "This data is in an arbitrary order.  Ensure it is ordered by time\n",
    "\n",
    "Hint: use Pandas.sort_values method"
   ]
  },
  {
   "cell_type": "code",
   "execution_count": 18,
   "metadata": {
    "autoscroll": false,
    "ein.tags": "worksheet-0",
    "slideshow": {
     "slide_type": "-"
    }
   },
   "outputs": [],
   "source": [
    "w15 =  w15.sort_values('timestamp')\n",
    "#weather.sort_values(weather.timestamp)\n"
   ]
  },
  {
   "cell_type": "markdown",
   "metadata": {
    "ein.tags": "worksheet-0",
    "slideshow": {
     "slide_type": "-"
    }
   },
   "source": [
    "# Noon temperature only\n",
    "\n",
    "Select a subset from your 2015 data that only contains data for noon\n",
    "(12:00:00).\n",
    "\n",
    "Hint: you can either find a string, corresponding to noon, in the\n",
    "string variable 'time', or extract hour from the timestamp like this:\n",
    "`w15.timestamp.apply(lambda x: x.hour)`\n",
    "This example code creates a variable that is only the hour (0-23)."
   ]
  },
  {
   "cell_type": "code",
   "execution_count": 19,
   "metadata": {
    "autoscroll": false,
    "ein.tags": "worksheet-0",
    "slideshow": {
     "slide_type": "-"
    }
   },
   "outputs": [
    {
     "name": "stdout",
     "output_type": "stream",
     "text": [
      "(365, 13)\n",
      "                                time summary precip      temp    appTemp  \\\n",
      "81801  2015-01-01 12:00:00.000 +0100   Clear   snow -4.900000 -10.588889   \n",
      "82065  2015-01-02 12:00:00.000 +0100   Foggy   snow -2.172222  -6.227778   \n",
      "82329  2015-01-03 12:00:00.000 +0100   Clear   rain  6.111111   2.922222   \n",
      "82401  2015-01-04 12:00:00.000 +0100   Windy   rain  5.000000  -0.727778   \n",
      "82425  2015-01-05 12:00:00.000 +0100   Clear   rain  2.777778  -2.577778   \n",
      "\n",
      "       humidity     wind  bearing  visibility  cloudCover  pressumre  \\\n",
      "81801      0.68  15.7136    210.0      9.9820         0.0        0.0   \n",
      "82065      0.96  11.2700    160.0      1.0465         0.0        0.0   \n",
      "82329      0.60  16.5186    291.0      9.9820         0.0        0.0   \n",
      "82401      0.65  40.5398    310.0      9.9820         0.0        0.0   \n",
      "82425      0.57  27.4505    320.0      9.9820         0.0        0.0   \n",
      "\n",
      "                                            dailySummary  \\\n",
      "81801  Partly cloudy starting overnight continuing un...   \n",
      "82065  Foggy starting in the morning continuing until...   \n",
      "82329                                   Foggy overnight.   \n",
      "82401  Breezy starting in the morning continuing unti...   \n",
      "82425  Breezy in the morning and mostly cloudy starti...   \n",
      "\n",
      "                       timestamp  \n",
      "81801  2015-01-01 12:00:00+01:00  \n",
      "82065  2015-01-02 12:00:00+01:00  \n",
      "82329  2015-01-03 12:00:00+01:00  \n",
      "82401  2015-01-04 12:00:00+01:00  \n",
      "82425  2015-01-05 12:00:00+01:00  \n"
     ]
    }
   ],
   "source": [
    "w15noon = w15[w15.time.str.contains(' 12:00:00', regex=False)].copy()\n",
    "print(w15noon.shape)\n",
    "print(w15noon.head(5))\n"
   ]
  },
  {
   "cell_type": "markdown",
   "metadata": {
    "ein.tags": "worksheet-0",
    "slideshow": {
     "slide_type": "-"
    }
   },
   "source": [
    "# make a plot\n",
    "\n",
    "Make a plot that depicts the temperature through 2015\n",
    "Add a descriptive title, label the axis.  Use a good font size. \n",
    "Use a non-default line color for the plot."
   ]
  },
  {
   "cell_type": "code",
   "execution_count": 22,
   "metadata": {
    "autoscroll": false,
    "ein.tags": "worksheet-0",
    "slideshow": {
     "slide_type": "-"
    }
   },
   "outputs": [
    {
     "name": "stderr",
     "output_type": "stream",
     "text": [
      "/Users/irischang/anaconda3/lib/python3.7/site-packages/pandas/plotting/_converter.py:129: FutureWarning: Using an implicitly registered datetime converter for a matplotlib plotting method. The converter was registered by pandas on import. Future versions of pandas will require you to explicitly register matplotlib converters.\n",
      "\n",
      "To register the converters:\n",
      "\t>>> from pandas.plotting import register_matplotlib_converters\n",
      "\t>>> register_matplotlib_converters()\n",
      "  warnings.warn(msg, FutureWarning)\n"
     ]
    },
    {
     "data": {
      "text/plain": [
       "Text(0, 0.5, 'temp')"
      ]
     },
     "execution_count": 22,
     "metadata": {},
     "output_type": "execute_result"
    },
    {
     "data": {
      "image/png": "[encoded data removed]",
      "text/plain": [
       "<Figure size 720x720 with 1 Axes>"
      ]
     },
     "metadata": {
      "needs_background": "light"
     },
     "output_type": "display_data"
    }
   ],
   "source": [
    "plt.figure(figsize=(10,10))\n",
    "# ...\n",
    "plt.plot(w15noon.timestamp, w15noon.temp, color='green',label = 'temperature')\n",
    "plt.title('temperature through 2015', {'fontsize':20})\n",
    "plt.xlabel('time', {'fontsize':15})\n",
    "plt.ylabel('temp', {'fontsize':15})\n"
   ]
  },
  {
   "cell_type": "code",
   "execution_count": null,
   "metadata": {},
   "outputs": [],
   "source": []
  }
 ],
 "metadata": {
  "kernelspec": {
   "display_name": "Python 3",
   "language": "python",
   "name": "python3"
  },
  "language_info": {
   "codemirror_mode": {
    "name": "ipython",
    "version": 3
   },
   "file_extension": ".py",
   "mimetype": "text/x-python",
   "name": "python",
   "nbconvert_exporter": "python",
   "pygments_lexer": "ipython3",
   "version": "3.7.3"
  },
  "name": "ps05-data.ipynb"
 },
 "nbformat": 4,
 "nbformat_minor": 2
}
