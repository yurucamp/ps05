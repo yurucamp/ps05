{
 "cells": [
  {
   "cell_type": "markdown",
   "metadata": {
    "ein.tags": "worksheet-0",
    "slideshow": {
     "slide_type": "-"
    }
   },
   "source": [
    "# IMT 511 PS 05: data programming"
   ]
  },
  {
   "cell_type": "code",
   "execution_count": null,
   "metadata": {
    "autoscroll": false,
    "collapsed": false,
    "ein.hycell": false,
    "ein.tags": "worksheet-0",
    "slideshow": {
     "slide_type": "-"
    }
   },
   "outputs": [],
   "source": [
    "import numpy as np\n",
    "import pandas as pd\n",
    "import matplotlib.pyplot as plt\n",
    "%matplotlib inline"
   ]
  },
  {
   "cell_type": "markdown",
   "metadata": {
    "ein.tags": "worksheet-0",
    "slideshow": {
     "slide_type": "-"
    }
   },
   "source": [
    "# read data\n",
    "\n",
    "read in the data file 'weatherHistory.csv.bz2'.  Understand it's\n",
    "structure.  Consult the companion text file for a brief variable\n",
    "descriptions.\n",
    "\n",
    "inspect a few lines of the data and find the number of rows and columns\n",
    "\n",
    "Hint: use pd.sample(), pd.head(), pd.tail()"
   ]
  },
  {
   "cell_type": "code",
   "execution_count": null,
   "metadata": {
    "autoscroll": false,
    "collapsed": false,
    "ein.hycell": false,
    "ein.tags": "worksheet-0",
    "slideshow": {
     "slide_type": "-"
    }
   },
   "outputs": [],
   "source": [
    "weather = pd.read_csv('weatherHistory.csv.bz2')\n",
    "# ..."
   ]
  },
  {
   "cell_type": "markdown",
   "metadata": {
    "ein.tags": "worksheet-0",
    "slideshow": {
     "slide_type": "-"
    }
   },
   "source": [
    "## Select 2015 observations only\n",
    "\n",
    "Select only observations for 2015.\n",
    "\n",
    "Hint: 'time' is of a string data type (well, it is a Series of\n",
    "string).  Use string methods to select 2015 data only.\n",
    "\n",
    "Hint2: you have to use `.str` attribute to get a string out of series.\n",
    "\n",
    "Hint3: don't just make a subset, make a copy of subset.\n",
    "\n",
    "Find how many observations are there for 2015 only."
   ]
  },
  {
   "cell_type": "code",
   "execution_count": null,
   "metadata": {
    "autoscroll": false,
    "collapsed": false,
    "ein.tags": "worksheet-0",
    "slideshow": {
     "slide_type": "-"
    }
   },
   "outputs": [],
   "source": [
    "#\n"
   ]
  },
  {
   "cell_type": "markdown",
   "metadata": {
    "ein.tags": "worksheet-0",
    "slideshow": {
     "slide_type": "-"
    }
   },
   "source": [
    "## Create a new variable 'timestamp' which is variable 'time'\n",
    "## converted to datetime type\n",
    "\n",
    "Hint: use Pandas.to_datetime\n",
    "(code given, adjust variable names)"
   ]
  },
  {
   "cell_type": "code",
   "execution_count": null,
   "metadata": {
    "autoscroll": false,
    "collapsed": false,
    "ein.tags": "worksheet-0",
    "slideshow": {
     "slide_type": "-"
    }
   },
   "outputs": [],
   "source": [
    "data['timestamp'] = pd.to_datetime(data.time)"
   ]
  },
  {
   "cell_type": "markdown",
   "metadata": {
    "ein.tags": "worksheet-0",
    "slideshow": {
     "slide_type": "-"
    }
   },
   "source": [
    "## Sort data by date\n",
    "\n",
    "This data is in an arbitrary order.  Ensure it is ordered by time\n",
    "\n",
    "Hint: use Pandas.sort_values method"
   ]
  },
  {
   "cell_type": "code",
   "execution_count": null,
   "metadata": {
    "autoscroll": false,
    "collapsed": false,
    "ein.tags": "worksheet-0",
    "slideshow": {
     "slide_type": "-"
    }
   },
   "outputs": [],
   "source": [
    "# ...\n"
   ]
  },
  {
   "cell_type": "markdown",
   "metadata": {
    "ein.tags": "worksheet-0",
    "slideshow": {
     "slide_type": "-"
    }
   },
   "source": [
    "# Noon temperature only\n",
    "\n",
    "Select a subset from your 2015 data that only contains data for noon\n",
    "(12:00:00).\n",
    "\n",
    "Hint: you can either find a string, corresponding to noon, in the\n",
    "string variable 'time', or extract hour from the timestamp like this:\n",
    "`w15.timestamp.apply(lambda x: x.hour)`\n",
    "This example code creates a variable that is only the hour (0-23)."
   ]
  },
  {
   "cell_type": "code",
   "execution_count": null,
   "metadata": {
    "autoscroll": false,
    "collapsed": false,
    "ein.tags": "worksheet-0",
    "slideshow": {
     "slide_type": "-"
    }
   },
   "outputs": [],
   "source": [
    "w15noon = w15[w15.time.str.contains(' 12:00:00', regex=False)].copy()\n",
    "print(w15noon.shape)\n",
    "print(w15noon.head(5))\n"
   ]
  },
  {
   "cell_type": "markdown",
   "metadata": {
    "ein.tags": "worksheet-0",
    "slideshow": {
     "slide_type": "-"
    }
   },
   "source": [
    "# make a plot\n",
    "\n",
    "Make a plot that depicts the temperature through 2015\n",
    "Add a descriptive title, label the axis.  Use a good font size. \n",
    "Use a non-default line color for the plot."
   ]
  },
  {
   "cell_type": "code",
   "execution_count": null,
   "metadata": {
    "autoscroll": false,
    "collapsed": false,
    "ein.tags": "worksheet-0",
    "slideshow": {
     "slide_type": "-"
    }
   },
   "outputs": [],
   "source": [
    "plt.figure(figsize=(10,10))\n",
    "# ..."
   ]
  }
 ],
 "metadata": {
  "kernelspec": {
   "display_name": "Python 3",
   "name": "python3"
  },
  "name": "ps05-data.ipynb"
 },
 "nbformat": 4,
 "nbformat_minor": 2
}
